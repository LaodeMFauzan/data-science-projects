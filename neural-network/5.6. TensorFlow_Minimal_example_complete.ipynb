{
 "cells": [
  {
   "cell_type": "markdown",
   "metadata": {},
   "source": [
    "### Import the relevant libraries"
   ]
  },
  {
   "cell_type": "code",
   "execution_count": 1,
   "metadata": {},
   "outputs": [],
   "source": [
    "# We must always import the relevant libraries for our problem at hand. NumPy and TensorFlow are required for this example.\n",
    "import numpy as np\n",
    "import matplotlib.pyplot as plt\n",
    "import tensorflow as tf"
   ]
  },
  {
   "cell_type": "markdown",
   "metadata": {},
   "source": [
    "### Data generation\n",
    "\n",
    "We generate data using the exact same logic and code as the example from the previous notebook. The only difference now is that we save it to an npz file. Npz is numpy's file type which allows you to save numpy arrays into a single .npz file. We introduce this change because in machine learning most often: \n",
    "\n",
    "* you are given some data (csv, database, etc.)\n",
    "* you preprocess it into a desired format (later on we will see methods for preprocesing)\n",
    "* you save it into npz files (if you're working in Python) to access later\n",
    "\n",
    "Nothing to worry about - this is literally saving your NumPy arrays into a file that you can later access, nothing more."
   ]
  },
  {
   "cell_type": "code",
   "execution_count": 2,
   "metadata": {},
   "outputs": [],
   "source": [
    "# First, we should declare a variable containing the size of the training set we want to generate.\n",
    "observations = 1000\n",
    "\n",
    "# We will work with two variables as inputs. You can think about them as x1 and x2 in our previous examples.\n",
    "# We have picked x and z, since it is easier to differentiate them.\n",
    "# We generate them randomly, drawing from an uniform distribution. There are 3 arguments of this method (low, high, size).\n",
    "# The size of xs and zs is observations x 1. In this case: 1000 x 1.\n",
    "xs = np.random.uniform(low=-10, high=10, size=(observations,1))\n",
    "zs = np.random.uniform(-10, 10, (observations,1))\n",
    "\n",
    "# Combine the two dimensions of the input into one input matrix. \n",
    "# This is the X matrix from the linear model y = x*w + b.\n",
    "# column_stack is a Numpy method, which combines two matrices (vectors) into one.\n",
    "generated_inputs = np.column_stack((xs,zs))\n",
    "\n",
    "# We add a random small noise to the function i.e. f(x,z) = 2x - 3z + 5 + <small noise>\n",
    "noise = np.random.uniform(-1, 1, (observations,1))\n",
    "\n",
    "# Produce the targets according to our f(x,z) = 2x - 3z + 5 + noise definition.\n",
    "# In this way, we are basically saying: the weights should be 2 and -3, while the bias is 5.\n",
    "generated_targets = 2*xs - 3*zs + 5 + noise\n",
    "\n",
    "# save into an npz file called \"TF_intro\"\n",
    "np.savez('TF_intro', inputs=generated_inputs, targets=generated_targets)"
   ]
  },
  {
   "cell_type": "markdown",
   "metadata": {},
   "source": [
    "## Solving with TensorFlow\n",
    "\n",
    "<i/>Note: This intro is just the basics of TensorFlow which has way more capabilities and depth than that.<i>"
   ]
  },
  {
   "cell_type": "code",
   "execution_count": 3,
   "metadata": {},
   "outputs": [],
   "source": [
    "# The shape of the data we've prepared above. Think about it as: number of inputs, number of outputs.\n",
    "input_size = 2\n",
    "output_size = 1"
   ]
  },
  {
   "cell_type": "markdown",
   "metadata": {},
   "source": [
    "### Outlining the model"
   ]
  },
  {
   "cell_type": "code",
   "execution_count": 4,
   "metadata": {},
   "outputs": [
    {
     "name": "stdout",
     "output_type": "stream",
     "text": [
      "WARNING:tensorflow:From C:\\Users\\User\\Anaconda3\\lib\\site-packages\\tensorflow\\python\\framework\\op_def_library.py:263: colocate_with (from tensorflow.python.framework.ops) is deprecated and will be removed in a future version.\n",
      "Instructions for updating:\n",
      "Colocations handled automatically by placer.\n"
     ]
    }
   ],
   "source": [
    "# Here we define a basic TensorFlow object - the placeholder.\n",
    "# As before, we will feed the inputs and targets to the model. \n",
    "# In the TensorFlow context, we feed the data to the model THROUGH the placeholders. \n",
    "# The particular inputs and targets are contained in our .npz file.\n",
    "\n",
    "# The first None parameter of the placeholders' shape means that\n",
    "# this dimension could be of any length. That's since we are mainly interested in\n",
    "# the input size, i.e. how many input variables we have and not the number of samples (observations)\n",
    "# The number of input variables changes the MODEL itself, while the number of observations doesn't.\n",
    "# Remember that the weights and biases were independent of the number of samples, so the MODEL is independent.\n",
    "# Important: NO calculation happens at this point.\n",
    "inputs = tf.placeholder(tf.float32, [None, input_size])\n",
    "targets = tf.placeholder(tf.float32, [None, output_size])\n",
    "\n",
    "# As before, we define our weights and biases.\n",
    "# They are the other basic TensorFlow object - a variable.\n",
    "# We feed data into placeholders and they have a different value for each iteration\n",
    "# Variables, however, preserve their values across iterations.\n",
    "# To sum up, data goes into placeholders; parameters go into variables.\n",
    "\n",
    "# We use the same random uniform initialization in [-0.1,0.1] as in the minimal example but using the TF syntax\n",
    "# Important: NO calculation happens at this point.\n",
    "weights = tf.Variable(tf.random_uniform([input_size, output_size], minval=-0.1, maxval=0.1))\n",
    "biases = tf.Variable(tf.random_uniform([output_size], minval=-0.1, maxval=0.1))\n",
    "\n",
    "# We get the outputs following our linear combination: y = xw + b\n",
    "# Important: NO calculation happens at this point.\n",
    "# This line simply tells TensorFlow what rule to apply when we feed in the training data (below).\n",
    "outputs = tf.matmul(inputs, weights) + biases"
   ]
  },
  {
   "cell_type": "markdown",
   "metadata": {},
   "source": [
    "### Choosing the objective function and the optimization method"
   ]
  },
  {
   "cell_type": "code",
   "execution_count": 5,
   "metadata": {},
   "outputs": [
    {
     "name": "stdout",
     "output_type": "stream",
     "text": [
      "WARNING:tensorflow:From C:\\Users\\User\\Anaconda3\\lib\\site-packages\\tensorflow\\python\\ops\\losses\\losses_impl.py:667: to_float (from tensorflow.python.ops.math_ops) is deprecated and will be removed in a future version.\n",
      "Instructions for updating:\n",
      "Use tf.cast instead.\n"
     ]
    }
   ],
   "source": [
    "# Again, we use a loss function, this time readily available, though.\n",
    "# mean_squared_error is the scaled L2-norm (per observation)\n",
    "# We divide by two to follow our earlier definitions. That doesn't really change anything.\n",
    "mean_loss = tf.losses.mean_squared_error(labels=targets, predictions=outputs) / 2.\n",
    "\n",
    "# Note that there also exists a function tf.nn.l2_loss. \n",
    "# tf.nn.l2_loss calculates the loss over all samples, instead of the average loss per sample.\n",
    "# Practically it's the same, a matter of preference.\n",
    "# The difference would be a smaller or larger learning rate to achieve the exact same result.\n",
    "\n",
    "# Instead of implementing Gradient Descent on our own, in TensorFlow we can simply state\n",
    "# \"Minimize the mean loss by using Gradient Descent with a given learning rate\"\n",
    "# Simple as that.\n",
    "optimize = tf.train.GradientDescentOptimizer(learning_rate=0.05).minimize(mean_loss)"
   ]
  },
  {
   "cell_type": "markdown",
   "metadata": {},
   "source": [
    "### Prepare for execution"
   ]
  },
  {
   "cell_type": "code",
   "execution_count": 6,
   "metadata": {},
   "outputs": [],
   "source": [
    "# So far we've defined the placeholders, variables, the loss function and the optimization method.\n",
    "# We have the structure for training, but we haven't trained anything yet.\n",
    "# The actual training (and subsequent implementation of the ML algorithm) happens inside sessions.\n",
    "sess = tf.InteractiveSession()"
   ]
  },
  {
   "cell_type": "markdown",
   "metadata": {},
   "source": [
    "### Initializing variables"
   ]
  },
  {
   "cell_type": "code",
   "execution_count": 7,
   "metadata": {},
   "outputs": [],
   "source": [
    "# Before we start training, we need to initialize our variables: the weights and biases.\n",
    "# There is a specific method for initializing called global_variables_initializer().\n",
    "# Let's declare a variable \"initializer\" that will do that.\n",
    "initializer = tf.global_variables_initializer()\n",
    "\n",
    "# Time to initialize the variables.\n",
    "sess.run(initializer)"
   ]
  },
  {
   "cell_type": "markdown",
   "metadata": {},
   "source": [
    "### Loading training data"
   ]
  },
  {
   "cell_type": "code",
   "execution_count": 8,
   "metadata": {},
   "outputs": [],
   "source": [
    "# We finally load the training data we created above.\n",
    "training_data = np.load('TF_intro.npz')"
   ]
  },
  {
   "cell_type": "markdown",
   "metadata": {},
   "source": [
    "### Learning"
   ]
  },
  {
   "cell_type": "code",
   "execution_count": 9,
   "metadata": {},
   "outputs": [
    {
     "name": "stdout",
     "output_type": "stream",
     "text": [
      "235.83737\n",
      "115.21565\n",
      "60.925312\n",
      "34.962345\n",
      "21.811932\n",
      "14.777353\n",
      "10.802574\n",
      "8.421096\n",
      "6.899237\n",
      "5.8576937\n",
      "5.095241\n",
      "4.502747\n",
      "4.019749\n",
      "3.6118932\n",
      "3.2590342\n",
      "2.9488487\n",
      "2.6733925\n",
      "2.42722\n",
      "2.2063594\n",
      "2.0077317\n",
      "1.8288383\n",
      "1.6675771\n",
      "1.5221313\n",
      "1.390909\n",
      "1.2724948\n",
      "1.165627\n",
      "1.0691714\n",
      "0.98211133\n",
      "0.90352786\n",
      "0.8325964\n",
      "0.7685696\n",
      "0.7107755\n",
      "0.65860766\n",
      "0.61151785\n",
      "0.569012\n",
      "0.5306433\n",
      "0.49600947\n",
      "0.46474692\n",
      "0.4365277\n",
      "0.41105485\n",
      "0.388062\n",
      "0.367307\n",
      "0.34857228\n",
      "0.33166125\n",
      "0.31639642\n",
      "0.30261713\n",
      "0.29017937\n",
      "0.27895227\n",
      "0.26881805\n",
      "0.2596704\n",
      "0.25141305\n",
      "0.24395949\n",
      "0.23723136\n",
      "0.23115823\n",
      "0.22567621\n",
      "0.22072785\n",
      "0.216261\n",
      "0.21222906\n",
      "0.2085896\n",
      "0.20530452\n",
      "0.20233901\n",
      "0.19966222\n",
      "0.19724599\n",
      "0.19506507\n",
      "0.19309625\n",
      "0.19131918\n",
      "0.18971503\n",
      "0.18826705\n",
      "0.18696003\n",
      "0.18578015\n",
      "0.18471524\n",
      "0.18375395\n",
      "0.18288626\n",
      "0.18210292\n",
      "0.1813959\n",
      "0.18075772\n",
      "0.18018167\n",
      "0.17966165\n",
      "0.17919226\n",
      "0.17876856\n",
      "0.17838608\n",
      "0.17804089\n",
      "0.17772925\n",
      "0.17744792\n",
      "0.17719409\n",
      "0.17696485\n",
      "0.17675799\n",
      "0.17657125\n",
      "0.1764027\n",
      "0.17625052\n",
      "0.1761132\n",
      "0.1759892\n",
      "0.17587726\n",
      "0.17577624\n",
      "0.1756851\n",
      "0.17560275\n",
      "0.17552847\n",
      "0.17546146\n",
      "0.17540088\n",
      "0.17534624\n"
     ]
    }
   ],
   "source": [
    "# As in the previous example, we train for a set number (100) of iterations over the dataset\n",
    "for i in range(100):\n",
    "    # This expression is a bit more complex but you'll learn to appreciate its power and\n",
    "    # flexibility in the following lessons.\n",
    "    # sess.run is the session's function to actually do something, anything.\n",
    "    # Above, we used it to initialize the variables.\n",
    "    # Here, we use it to feed the training data to the computational graph, defined by the feed_dict parameter\n",
    "    # and run operations (already defined above), given as the first parameter (optimize, mean_loss).\n",
    "    \n",
    "    # So the line of code means: \"Run the optimize and mean_loss operations by filling the placeholder\n",
    "    # objects with data from the feed_dict parameter\".\n",
    "    # Curr_loss catches the output from the two operations.\n",
    "    # Using \"_,\" we omit the first one, because optimize has no output (it's always \"None\"). \n",
    "    # The second one catches the value of the mean_loss for the current run, thus curr_loss actually = mean_loss \n",
    "    _, curr_loss = sess.run([optimize, mean_loss], \n",
    "        feed_dict={inputs: training_data['inputs'], targets: training_data['targets']})\n",
    "    \n",
    "    # We print the current average loss\n",
    "    print(curr_loss)"
   ]
  },
  {
   "cell_type": "markdown",
   "metadata": {},
   "source": [
    "### Plotting the data"
   ]
  },
  {
   "cell_type": "code",
   "execution_count": 10,
   "metadata": {},
   "outputs": [
    {
     "data": {
      "image/png": "[encoded data removed]",
      "text/plain": [
       "<Figure size 432x288 with 1 Axes>"
      ]
     },
     "metadata": {
      "needs_background": "light"
     },
     "output_type": "display_data"
    }
   ],
   "source": [
    "# As before, we want to plot the last output vs targets after the training is supposedly over.\n",
    "# Same notation as above but this time we don't want to train anymore, and we are not interested\n",
    "# in the loss function value.\n",
    "# What we want, however, are the outputs. \n",
    "# Therefore, instead of the optimize and mean_loss operations, we pass the \"outputs\" as the only parameter.\n",
    "out = sess.run([outputs], \n",
    "               feed_dict={inputs: training_data['inputs']})\n",
    "# The model is optimized, so the outputs are calculated based on the last form of the model\n",
    "\n",
    "# We have to np.squeeze the arrays in order to fit them to what the plot function expects.\n",
    "# Doesn't change anything as we cut dimensions of size 1 - just a technicality.\n",
    "plt.plot(np.squeeze(out), np.squeeze(training_data['targets']))\n",
    "plt.xlabel('outputs')\n",
    "plt.ylabel('targets')\n",
    "plt.show()\n",
    "        \n",
    "# Voila - what you see should be exactly the same as in the previous notebook!\n",
    "# You probably don't see the point of TensorFlow now - it took us more lines of code\n",
    "# to achieve this simple result. However, once we go deeper in the next chapter,\n",
    "# TensorFlow will save us hundreds of lines of code."
   ]
  }
 ],
 "metadata": {
  "kernelspec": {
   "display_name": "Python 3",
   "language": "python",
   "name": "python3"
  },
  "language_info": {
   "codemirror_mode": {
    "name": "ipython",
    "version": 3
   },
   "file_extension": ".py",
   "mimetype": "text/x-python",
   "name": "python",
   "nbconvert_exporter": "python",
   "pygments_lexer": "ipython3",
   "version": "3.7.1"
  }
 },
 "nbformat": 4,
 "nbformat_minor": 2
}
